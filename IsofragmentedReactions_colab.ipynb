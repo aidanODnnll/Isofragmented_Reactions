{
  "nbformat": 4,
  "nbformat_minor": 0,
  "metadata": {
    "colab": {
      "name": "IsofragmentedReactions .ipynb",
      "provenance": [],
      "collapsed_sections": [],
      "include_colab_link": true
    },
    "kernelspec": {
      "display_name": "Python 3",
      "language": "python",
      "name": "python3"
    },
    "language_info": {
      "codemirror_mode": {
        "name": "ipython",
        "version": 3
      },
      "file_extension": ".py",
      "mimetype": "text/x-python",
      "name": "python",
      "nbconvert_exporter": "python",
      "pygments_lexer": "ipython3",
      "version": "3.7.2"
    }
  },
  "cells": [
    {
      "cell_type": "markdown",
      "metadata": {
        "id": "view-in-github",
        "colab_type": "text"
      },
      "source": [
        "<a href=\"https://colab.research.google.com/github/aidanODnnll/Isofragmented_Reactions/blob/main/IsofragmentedReactions_colab.ipynb\" target=\"_parent\"><img src=\"https://colab.research.google.com/assets/colab-badge.svg\" alt=\"Open In Colab\"/></a>"
      ]
    },
    {
      "cell_type": "markdown",
      "metadata": {
        "id": "V_x97vma0m6c"
      },
      "source": [
        "# Estimation of Enthalpy of Formation\n",
        " \n",
        "This jupyter notebook implements capabilities to estimate enthalpy of formation of a target molecule using isofragmented reactions. If you are using this for educational or research purposes, please cite the following publication:\n",
        " \n",
        "\n",
        " \n",
        "## Needed Libraries\n",
        " \n",
        "Numpy and Scipy will be needed for data analysis. Pyomo will be needed in order to create the MILP model. RDkit is required in order to count the features of an molecule. Additionally a solver will be required for the MILP model, this notebook allows for the user to access GLPK, or CPLEX through the use of NEOS. If the user has thier own solver with license they would like to use such as Gurobi or CPLEX they can run this file localy on their own computer. \n",
        "\n"
      ]
    },
    {
      "cell_type": "code",
      "metadata": {
        "id": "5pt1XLX90m6i",
        "colab": {
          "base_uri": "https://localhost:8080/"
        },
        "outputId": "78f0f531-0f17-4b68-a012-d32b3aa7ac96"
      },
      "source": [
        "import pandas as pd\n",
        "import scipy.stats\n",
        "import numpy as np\n",
        "import os\n",
        "!pip install pyomo\n",
        "from pyomo.environ import *\n",
        "\n",
        "## Import rdkit\n",
        "!curl -L bit.ly/rdkit-colab | tar xz -C /\n",
        "from rdkit import Chem\n",
        "\n",
        "from urllib.request import urlopen\n",
        "url = 'https://drive.google.com/uc?id=1zAKMev2bo6STdgAkLzAiwGcFfKgUBZ0k'\n",
        "py = urlopen(url).read().decode('utf-8')\n",
        "exec(py)"
      ],
      "execution_count": null,
      "outputs": [
        {
          "output_type": "stream",
          "text": [
            "Collecting pyomo\n",
            "\u001b[?25l  Downloading https://files.pythonhosted.org/packages/84/03/2ae441aadf8f558cdefabc68968ee308a15780a98a26b18f8fec058d64bc/Pyomo-6.0-cp37-cp37m-manylinux_2_5_x86_64.manylinux1_x86_64.manylinux_2_12_x86_64.manylinux2010_x86_64.whl (8.9MB)\n",
            "\u001b[K     |████████████████████████████████| 8.9MB 35.5MB/s \n",
            "\u001b[?25hCollecting ply\n",
            "\u001b[?25l  Downloading https://files.pythonhosted.org/packages/a3/58/35da89ee790598a0700ea49b2a66594140f44dec458c07e8e3d4979137fc/ply-3.11-py2.py3-none-any.whl (49kB)\n",
            "\u001b[K     |████████████████████████████████| 51kB 6.8MB/s \n",
            "\u001b[?25hInstalling collected packages: ply, pyomo\n",
            "Successfully installed ply-3.11 pyomo-6.0\n",
            "  % Total    % Received % Xferd  Average Speed   Time    Time     Time  Current\n",
            "                                 Dload  Upload   Total   Spent    Left  Speed\n",
            "100   163  100   163    0     0   3622      0 --:--:-- --:--:-- --:--:--  3622\n",
            "100   133  100   133    0     0   1385      0 --:--:-- --:--:-- --:--:--  1385\n",
            "100   620  100   620    0     0   3757      0 --:--:-- --:--:-- --:--:--  3757\n",
            "100 29.6M  100 29.6M    0     0  22.2M      0  0:00:01  0:00:01 --:--:-- 27.5M\n"
          ],
          "name": "stdout"
        }
      ]
    },
    {
      "cell_type": "markdown",
      "metadata": {
        "id": "4miMGPIp0m6j"
      },
      "source": [
        "## Starting the Code \n",
        " \n",
        "The function that the user will call in order to create the estimates. 2 text files must be passed when the function is called. The first is a file of known molecules and their known enthalpy of formation, the second is a list of unknown molecules. If the user does not wish to use the provided NIST database they can chose to input `UseNIST = False`. The NIST database provided has molecules made up of C, O, and H. If the user provides known molecules this model can handle molecules made up of C, O, H, N, and F atoms. \n",
        " "
      ]
    },
    {
      "cell_type": "code",
      "metadata": {
        "id": "ALAXDuMz0m6j"
      },
      "source": [
        "\n",
        "def run(UnknownMoleculesTxt, KnownMoleculesTxt = [], UseNIST = True):\n",
        "    NumberOfRxns = 40\n",
        "    StoichLimit = 5\n",
        "    f = open(KnownMoleculesTxt)\n",
        "    if len(f.readlines()) >= 1:\n",
        "        EnthalpyOfFormation = keyMaker(KnownMoleculesTxt)\n",
        "        KnownSMILES = justSMILES(KnownMoleculesTxt)\n",
        "        KnownMolecules = KnownSMILES.splitlines()\n",
        "        String_KMtF, values = file_transform(KnownSMILES,atoms, mode = 'pathway fps')\n",
        "        KnownMoleculesToFeatures = CreateData(String_KMtF)\n",
        "    else: \n",
        "        EnthalpyOfFormation = {}\n",
        "        KnownSMILES = []\n",
        "        KnownMolecules = []\n",
        "        KnownMoleculesToFeatures = {}\n",
        "    f.close()\n",
        "    f = open(UnknownMoleculesTxt)\n",
        "    if len(f.readlines()) < 1:\n",
        "        return 'Error: No Molecules with Unknown Enthalpy Provided'\n",
        "    UnknownMolecules = open(UnknownMoleculesTxt, 'r').readlines()\n",
        "    String_UMtF, values = file_transform(open(UnknownMoleculesTxt).read(),atoms, mode = 'pathway fps') \n",
        "    UnknownMoleculesToFeatures = CreateData(String_UMtF)\n",
        "    features = values[2:]\n",
        "    GATestimates = values[:2]\n",
        "    if UseNIST: \n",
        "        NISTKnownFile = 'https://drive.google.com/uc?id=1KSSbE9eX4__faxWEG9PA1z6vgH3r-7Wf'\n",
        "        NISTEnthalpy = keyMaker(NISTKnownFile)\n",
        "        KnownMolecules += justSMILES(NISTKnownFile).splitlines()\n",
        "        KnownMolecules = list(set(KnownMolecules))\n",
        "        f = open(NISTKnownFile)\n",
        "        NISTString, values = file_transform(f.read(),atoms, mode = 'regular')\n",
        "        f.close()\n",
        "        print(CreateData(NISTString))\n",
        "        KnownMoleculesToFeatures.update(CreateData(NISTString))\n",
        "        EnthalpyOfFormation.update(NISTEnthalpy)\n",
        "    Weights = {}\n",
        "    for f in features: \n",
        "        if len(f) == 1: \n",
        "            Weights.update({f:0})\n",
        "        else:\n",
        "            Weights.update({f:1})\n",
        "    for e in GATEstimates:\n",
        "        Weights.update({e:1000})\n",
        "    solutions = 'Molecule \\t Estimated Enthalpy of Formation (kcal/mol) \\t Uncertainty \\n'\n",
        "    for mol in UnknownMolecules:\n",
        "        if mol in KnownMolecules:\n",
        "            solutions += str(mol) +'\\t' + str(EnthalpyOfFormation[mol]) + '\\t Enthalpy already known \\n'\n",
        "        else:\n",
        "            results = 'chosen = '+ str(mol) + '\\n'\n",
        "            rxns,n = findRxns(UnknownMoleculesToFeatures, Weights, NumberOfRxns, StoichLimit, KnownMolecules, KnownMoleculesToFeatures, values, mol)\n",
        "            results += rxns\n",
        "            Estimate, dHList = determineEnthalpy(results, n, EnthalpyOfFormation, KnownMoleculesToFeatures, UnknownMoleculesToFeatures)\n",
        "            Mean, Error = findAverages(Estimate, dHList)\n",
        "            solutions += str(mol) +'\\t' + str(Mean) + '\\t' + str(Error) + '\\n'\n",
        "    return solutions\n",
        "\n"
      ],
      "execution_count": null,
      "outputs": []
    },
    {
      "cell_type": "markdown",
      "metadata": {
        "id": "9aF9QSo30m6k"
      },
      "source": [
        "For this example `run()` will be broken up and its functions will be called individually in order to demonstrate how they work.\n",
        " \n",
        "To simplify the demonstration of the code the NIST database will not be used. Instead a selecion of 20 molecules will be treated as the known and there will only be one unknown molecule. The first step is running `file_transform()` which counts the features for each molecule along with providing some estimates.\n"
      ]
    },
    {
      "cell_type": "code",
      "metadata": {
        "id": "tXiVq7uZ0kwL",
        "colab": {
          "base_uri": "https://localhost:8080/"
        },
        "outputId": "a85225e6-087c-4c8e-cca1-5f7e963da004"
      },
      "source": [
        "def justSMILES(filename):\n",
        "    lines = urlopen(filename).read().decode('utf-8').splitlines()\n",
        "    SMILES = ''\n",
        "    for l in lines:\n",
        "        l = l.split()\n",
        "        SMILES += l[0] + '\\n'\n",
        "    return SMILES\n",
        "\n",
        "UnknownMoleculesTxt = 'https://drive.google.com/uc?id=1_UCgLfYOzOlJawFurxgRZpCGjvMR-ne_'\n",
        "KnownMoleculesTxt = 'https://drive.google.com/uc?id=1ejo5R3COY2Yr10zyMwz9-iuxHcidaEy4'\n",
        "\n",
        "atoms = ['C','O','H'] \n",
        "KnownSMILES = justSMILES(KnownMoleculesTxt)\n",
        "String_KMtF, values = file_transform(KnownSMILES,atoms, mode = 'regular') #'pathway fps' is the mode used in the paper  \n",
        "String_UMtF,values = file_transform(urlopen(UnknownMoleculesTxt).read().decode('utf-8'),atoms, mode = 'regular') #'pathway fps' is the mode used in the paper \n",
        "features = values[2:]\n",
        "GATEstimates = values[:2]\n",
        "\n",
        "print('Example of what file_transform() returns: \\n' + String_UMtF)"
      ],
      "execution_count": null,
      "outputs": [
        {
          "output_type": "stream",
          "text": [
            "Example of what file_transform() returns: \n",
            "SMILES                                                                          atomization_energy  uncertainty                       C              O              H             CO            C=O             CC            C=C            C#C           C[H]           c[H]             cC           O[H]             cc             cO             co\n",
            "CCCCOC                                                                                      -1597.78                0.22              5              1             12              2              0              3              0              0              0              0              0              0              0              0              0\n",
            "\n"
          ],
          "name": "stdout"
        }
      ]
    },
    {
      "cell_type": "markdown",
      "metadata": {
        "id": "b6Xcf7CL0m6l"
      },
      "source": [
        "Note that in this example, the molecule `CCCCOC` is being treated as if it has an unknown enthalpy and will be the target molecule. Multiple molecules can have their enthalpy marked as unknown.\n",
        "\n",
        "The information provided by the user along with what `file_transform()` obtained must be converted from strings to data types useable by the MILP model. This is done by a couple functions in the next cell."
      ]
    },
    {
      "cell_type": "code",
      "metadata": {
        "id": "TI1CkvsZ0m6l",
        "colab": {
          "base_uri": "https://localhost:8080/"
        },
        "outputId": "f45ba9df-ca86-4651-ce69-09ed49fe1ed4"
      },
      "source": [
        "def keyMaker(filename):\n",
        "    f = np.loadtxt(filename, dtype=object, comments = None)\n",
        "    key = {}\n",
        "    for l in f:\n",
        "        key.update({l[0]:float(l[1])})\n",
        "    return key\n",
        "\n",
        "def CreateData(string):\n",
        "    l = string.splitlines()\n",
        "    z = 0 \n",
        "    res = []\n",
        "    #This for loop puts the data into a list to be used later \n",
        "    for x in l:\n",
        "        z += 1\n",
        "        # res += [delspace(x)]\n",
        "        res += [x.split()]\n",
        "    MolToFactors = MakeDataDict(res[0],res[1:])\n",
        "    return MolToFactors\n",
        "\n",
        "def MakeDataDict(features,data):\n",
        "    res = {}\n",
        "    newf = features[1:]\n",
        "    mols = []\n",
        "    z = 0\n",
        "    #Goes through each index of data\n",
        "    for l in data:\n",
        "        mol = l[0] \n",
        "        mols += [mol]\n",
        "        point = 1 \n",
        "        # assigns the value to its corresponding feature for each molecule      \n",
        "        for i in newf:\n",
        "            res.update({(mol,i):float(l[point])})\n",
        "            point += 1\n",
        "    return res\n",
        "\n",
        "\n",
        "KnownMolecules = KnownSMILES.splitlines()\n",
        "UnknownMolecules = urlopen(UnknownMoleculesTxt).read().decode('utf-8').splitlines()\n",
        "KnownMoleculesToFeatures = CreateData(String_KMtF)\n",
        "UnknownMoleculesToFeatures = CreateData(String_UMtF)\n",
        "EnthalpyOfFormation = keyMaker(KnownMoleculesTxt)\n",
        "\n",
        "\n",
        "# print('List of Molecules with Known Enthalpy:', KnownMolecules) Dont need bc given\n",
        "print('Molecules with Unknown Enthalpy:', UnknownMolecules)\n",
        "print('List of Features:', features)\n",
        "# print('Dictionaries connecting molecules to features', KnownMoleculesToFeatures, UnknownMoleculesToFeatures)\n",
        "print('Known Enthalpy of Formations:', EnthalpyOfFormation)"
      ],
      "execution_count": null,
      "outputs": [
        {
          "output_type": "stream",
          "text": [
            "Molecules with Unknown Enthalpy: ['CCCCOC']\n",
            "List of Features: ['C', 'O', 'H', 'CO', 'C=O', 'CC', 'C=C', 'C#C', 'C[H]', 'c[H]', 'cC', 'O[H]', 'cc', 'cO', 'co']\n",
            "Known Enthalpy of Formations: {'C[CH]C': 21.51, 'CC(=O)O': -103.49, 'CCCCCC': -39.96, 'CCOC=O': -95.12, 'C=[CH]': 71.46, 'CCC(=O)CC(=O)C': -105.09, 'O=C1CC2C(C1)(C)CCCC2': -65.77, 'CCCCCCCCCC1CCCCC1': -75.57, 'CCCC=CC': -11.23, 'COCCOC': -81.93, 'CCCCC': -35.16, 'C1CCCO1': -44.02, 'C1CCO1': -19.25, 'COC=O': -86.52, 'OCC(C)C': -67.61, 'CC(C)(C)C': -39.67, 'C=O': -25.96, 'CC=CC=O': -25.55, 'C1CC2C1C3C2C3': 56.17}\n"
          ],
          "name": "stdout"
        }
      ]
    },
    {
      "cell_type": "markdown",
      "metadata": {
        "id": "Bv_l4CpP0m6m"
      },
      "source": [
        "Next the features must be assigned a weight based on how important they are to conserve in an isofragmented reaction. The estimate of atomization energy and uncertainty are not important to the reaction so they are assigned a very high value. If the length of a feature is 1, it is assumed to be an element and given a value of 0 since it must be conserved. Everything else is assigned a value of 1."
      ]
    },
    {
      "cell_type": "code",
      "metadata": {
        "id": "EmUmbdPc0m6m",
        "colab": {
          "base_uri": "https://localhost:8080/"
        },
        "outputId": "746303d0-2c46-4881-e9b6-df764605228e"
      },
      "source": [
        "Weights = {}\n",
        "for f in features: \n",
        "    if len(f) == 1: \n",
        "        Weights.update({f:0})\n",
        "    else:\n",
        "        Weights.update({f:1})\n",
        "for e in GATEstimates:\n",
        "    Weights.update({e:1000})\n",
        "print(Weights)\n",
        "\n"
      ],
      "execution_count": null,
      "outputs": [
        {
          "output_type": "stream",
          "text": [
            "{'C': 0, 'O': 0, 'H': 0, 'CO': 1, 'C=O': 1, 'CC': 1, 'C=C': 1, 'C#C': 1, 'C[H]': 1, 'c[H]': 1, 'cC': 1, 'O[H]': 1, 'cc': 1, 'cO': 1, 'co': 1, 'atomization_energy': 1000, 'uncertainty': 1000}\n"
          ],
          "name": "stdout"
        }
      ]
    },
    {
      "cell_type": "markdown",
      "metadata": {
        "id": "IGY515ds0m6n"
      },
      "source": [
        "## Creating the Isofragmented Reactions\n",
        "\n",
        "The next step is to loop through the molecules with unknown enthalpy in order to create reactions and then estimates for each molecule, in this example there is only 1 molecule so the loop will not be particularly necessary. \n",
        "\n",
        "First the molecule along with all the data will be passed into the function `findRxns()` which will create the MILP model and solve to find a number of isodesmic reactions. The MILP model also makes use of several other functions such as `StoichRule1()`, `StoichRule2()`, and `MakeIso()` to create constraints. In order to solve the MILP model the program must make use of a solver such as CPLEX, Gurobi and ... The user must specify the solver using `solver = SolverFactory('Specified_solver)` and then add tolerances and time limits using `solver.options('tolerance/time')` where the user must look at solver documentation to determine the name of the option. For this example GLPK is used because the model is not very large, if the user wants to run this with more molecules they should use CPLEX provided by NEOS or their own solver. The solver settings for NEOS, GLPK, Gurobi, and CPLEX are provided all provided. \n",
        "This particular example uses GLPK because it is very simple, NEOS is the recomened solver to use.\n",
        "\n"
      ]
    },
    {
      "cell_type": "code",
      "metadata": {
        "id": "er6HjZBp8-Gg",
        "colab": {
          "base_uri": "https://localhost:8080/"
        },
        "outputId": "673dd739-43ba-4891-83c7-2af669eaf143"
      },
      "source": [
        "# Uncomment if you want to use GLPK\n",
        "!apt-get install -y -qq glpk-utils"
      ],
      "execution_count": null,
      "outputs": [
        {
          "output_type": "stream",
          "text": [
            "Selecting previously unselected package libsuitesparseconfig5:amd64.\n",
            "(Reading database ... 160706 files and directories currently installed.)\n",
            "Preparing to unpack .../libsuitesparseconfig5_1%3a5.1.2-2_amd64.deb ...\n",
            "Unpacking libsuitesparseconfig5:amd64 (1:5.1.2-2) ...\n",
            "Selecting previously unselected package libamd2:amd64.\n",
            "Preparing to unpack .../libamd2_1%3a5.1.2-2_amd64.deb ...\n",
            "Unpacking libamd2:amd64 (1:5.1.2-2) ...\n",
            "Selecting previously unselected package libcolamd2:amd64.\n",
            "Preparing to unpack .../libcolamd2_1%3a5.1.2-2_amd64.deb ...\n",
            "Unpacking libcolamd2:amd64 (1:5.1.2-2) ...\n",
            "Selecting previously unselected package libglpk40:amd64.\n",
            "Preparing to unpack .../libglpk40_4.65-1_amd64.deb ...\n",
            "Unpacking libglpk40:amd64 (4.65-1) ...\n",
            "Selecting previously unselected package glpk-utils.\n",
            "Preparing to unpack .../glpk-utils_4.65-1_amd64.deb ...\n",
            "Unpacking glpk-utils (4.65-1) ...\n",
            "Setting up libsuitesparseconfig5:amd64 (1:5.1.2-2) ...\n",
            "Setting up libcolamd2:amd64 (1:5.1.2-2) ...\n",
            "Setting up libamd2:amd64 (1:5.1.2-2) ...\n",
            "Setting up libglpk40:amd64 (4.65-1) ...\n",
            "Setting up glpk-utils (4.65-1) ...\n",
            "Processing triggers for libc-bin (2.27-3ubuntu1.2) ...\n",
            "/sbin/ldconfig.real: /usr/local/lib/python3.7/dist-packages/ideep4py/lib/libmkldnn.so.0 is not a symbolic link\n",
            "\n",
            "Processing triggers for man-db (2.8.3-2ubuntu0.1) ...\n"
          ],
          "name": "stdout"
        }
      ]
    },
    {
      "cell_type": "code",
      "metadata": {
        "id": "QdaPfYi00m6n",
        "colab": {
          "base_uri": "https://localhost:8080/"
        },
        "outputId": "7e582635-cdb2-41ba-93dc-00775559813a"
      },
      "source": [
        "\n",
        "# os.environ['NEOS_EMAIL'] = 'user@email' # Replace with your own email, if you want to run CPLEX through NEOS \n",
        "\n",
        "def StoichRule1(m, i):\n",
        "    return -1*m.n*m.y[i] + m.z[i] <= m.s[i]\n",
        "\n",
        "def StoichRule2(m, i):\n",
        "    return   -1*m.y[i] + 1*m.n*m.z[i] >= m.s[i]\n",
        "\n",
        "def OneSRule(m, i):\n",
        "    return m.y[i] + m.z[i] <= 1\n",
        "\n",
        "def slack(m,k):\n",
        "    sums = sum(m.a[i,k]*m.s[i] for i in m.mol)\n",
        "    return sums <= m.c[k]\n",
        "\n",
        "def slack2(m,k):\n",
        "    sums = sum(m.a[i,k]*m.s[i] for i in m.mol)\n",
        "    return sums >= -1*m.c[k]\n",
        "\n",
        "def makeEta(m,i):\n",
        "    return -1*m.eta[i] <= m.s[i]\n",
        "\n",
        "def makeEta2(m,i):\n",
        "    return m.eta[i] >= m.s[i]\n",
        "\n",
        "def MakeIso(m):\n",
        "    sums = sum(m.c[i]/m.w[i] for i in m.factors if  m.w[i] != 0 and m.w[i] <= 100  )\n",
        "    return sums <= m.Lambda\n",
        "\n",
        "def findRxns(UnknownMoleculesToFeatures, Weights, NumberOfRxns, maxStoich, KnownMolecules, KnownMoleculesToFeatures, features, mol):   \n",
        "    d = KnownMoleculesToFeatures\n",
        "    newfactors = {}\n",
        "    #Adds Target molecule to the dictionary of features and list of molecules\n",
        "    for x in features:\n",
        "        z = UnknownMoleculesToFeatures[(mol,x)]\n",
        "        d.update({('target', x):z})\n",
        "    KnownMolecules += ['target']\n",
        "    targetMol = 'target'\n",
        "    m = ConcreteModel()\n",
        "    # sets\n",
        "    m.mol = Set(initialize = KnownMolecules) # the molecules\n",
        "    m.factors = Set(initialize = features)# factors\n",
        "    #parameters\n",
        "    m.a = Param(m.mol, m.factors, initialize = d)# gives values of factors for molecules\n",
        "    m.w = Param(m.factors, initialize = Weights) # gives weights of factors\n",
        "    m.n = Param(initialize = maxStoich, mutable = True) # Max stoich coeff\n",
        "    m.Lambda = Param(initialize = 0, mutable = True)\n",
        "\n",
        "    #variables \n",
        "    m.y = Var(m.mol, initialize = 0, within = Binary)# Whether it is a reactant\n",
        "    m.z = Var(m.mol, initialize = 0, within = Binary)# whether it is a product\n",
        "    m.s = Var(m.mol, initialize = 0, within = Reals)# stoich coeff\n",
        "    m.c = Var(m.factors, initialize = 0, within =NonNegativeReals) # This is the amount of extra bonds needed\n",
        "    m.eta = Var(m.mol, initialize = 0, within =NonNegativeReals) # Positive value of S\n",
        "    # con\n",
        "    m.chosen = Constraint( expr = m.z[targetMol] >= 1) # Ensures target molecule is in all reactions \n",
        "    m.StoichLim1 = Constraint(m.mol, rule = StoichRule1) # Makes sure we don't go over the stoich limit\n",
        "    m.StoichLim2 = Constraint(m.mol, rule = StoichRule2)\n",
        "    m.OneSide = Constraint(m.mol, rule = OneSRule) # Make sure the molecule only apears on one side\n",
        "    m.slack = Constraint(m.factors, rule = slack)# Determines m.c\n",
        "    m.slack2 = Constraint(m.factors, rule = slack2) \n",
        "    m.isoD = Constraint(rule = MakeIso)#Makes the reaction isofragmented\n",
        "    m.posStoich =  Constraint(m.mol, rule = makeEta) # Determines m.eta\n",
        "    m.posStoich2 =  Constraint(m.mol, rule = makeEta2)\n",
        "    m.constL = ConstraintList()\n",
        "    # Ensuring that elements must be conserved \n",
        "    expr = 0\n",
        "    for j in m.w:\n",
        "        if value(m.w[j]) == 0:\n",
        "            expr += m.c[j]\n",
        "    m.constL.add( expr == 0 )\n",
        "    \n",
        "    #objective\n",
        "    m.Objective = Objective(expr=sum(m.eta[i]*m.a[i,'uncertainty'] for i in m.mol), sense = minimize)\n",
        "    \n",
        "    #Solver options \n",
        "    # Uncomment to use GLPK\n",
        "    solver = SolverFactory('glpk', executable='/usr/bin/glpsol')\n",
        "    \n",
        "    # Uncomment to use NEOS\n",
        "    # solver = SolverManagerFactory('neos')\n",
        "\n",
        "    # Uncomment to use Gurobi\n",
        "    # solver = SolverFactory('gurobi')\n",
        "    # solver.options['MIPGapAbs'] = (.1)\n",
        "    # solver.options['TimeLimit'] = 250\n",
        "    \n",
        "    # Uncomment to use CPLEX\n",
        "    # solver = SolverFactory(\"cplex\")\n",
        "    # solver.options['mip_tolerances_absmipgap'] = .1\n",
        "    # solver.options['timelimit'] = 250\n",
        "    \n",
        "    sol = ''\n",
        "    t = 1\n",
        "    # iterate through reactions \n",
        "    for i in range(NumberOfRxns):\n",
        "        # Uncomment if using any solver but NEOS\n",
        "        results = solver.solve(m,load_solutions=False)\n",
        "\n",
        "        # Uncomment if using NEOS\n",
        "        # results = solver.solve(m, opt = 'cplex', load_solutions=False)\n",
        "\n",
        "        # Check solver status \n",
        "        if (results.solver.status == SolverStatus.ok) and (results.solver.termination_condition == TerminationCondition.optimal):\n",
        "            m.solutions.load_from(results)\n",
        "\n",
        "            ## Options to see the results as displayed by the solver\n",
        "            # print(results) \n",
        "            # print(m.display())\n",
        "            \n",
        "            # Turn the solution into a more understandable format\n",
        "            res = ''\n",
        "            resC = 0\n",
        "            res2C = 0\n",
        "            res2 = ''\n",
        "            for v in m.component_objects(Var, active=True):\n",
        "                if str(v) == 's':\n",
        "                    for i in v:\n",
        "                        if abs(value(v[i])) >= .01:\n",
        "                            if value(v[i]) <= 0:\n",
        "                                if resC >= 1:\n",
        "                                    res += ' + '\n",
        "                                res += str(round(abs(value(v[i])),3)) + '*' + str(i) \n",
        "                                resC += 1\n",
        "                            if value(v[i]) >= 0:\n",
        "                                if res2C >= 1:\n",
        "                                    res2 += ' + '\n",
        "                                res2 += str(round(abs(value(v[i])),3)) + '*' + str(i) \n",
        "                                res2C += 1\n",
        "            sol += 'Reaction ' + str(t) + ':' + '      ' +  res + ' <--> ' + res2 + ' \\n'\n",
        "       \n",
        "        # Possible failure cases \n",
        "        elif (results.solver.termination_condition == TerminationCondition.infeasible):\n",
        "            break\n",
        "        elif results.solver.status == SolverStatus.aborted:\n",
        "            break\n",
        "        # print(t) # Allows user to keep track of what reaction number the model is on (not necessary for use)\n",
        "        t += 1\n",
        "        expr = 0\n",
        "        ### Adjusted Integer cuts, uncomment else statements for traditional integer cuts(not recommended)\n",
        "        for j in m.y:\n",
        "            if value(m.y[j]) == 1:\n",
        "                expr += (1-m.y[j])\n",
        "            #else:\n",
        "                #expr += m.y[j]\n",
        "        for r in m.z:\n",
        "            if value(m.z[r]) == 1:\n",
        "                expr += (1-m.z[r])\n",
        "            #else:\n",
        "                #expr += m.z[r]\n",
        "        m.constL.add( expr >= 1 )\n",
        "    return(sol,t-1)\n",
        "\n",
        "# This will clean the results into a easily readable format\n",
        "def MakeResClean(results):\n",
        "    CleanRes = ''\n",
        "    target = results.splitlines()[0].split()[2]\n",
        "    for l in results.splitlines()[1:]:\n",
        "        l = l.split()\n",
        "        CleanRes += l[0]+ ' ' + l[1] + ' '\n",
        "        for i in l[2:]:\n",
        "            if i == '+' or i == '<-->':\n",
        "                CleanRes += ' ' + i + ' '\n",
        "            else:\n",
        "                GettingStoich = True\n",
        "                stoich = ''\n",
        "                mol = ''\n",
        "                Searching = True\n",
        "                x = 0\n",
        "                while Searching:\n",
        "                    if GettingStoich:\n",
        "                        if i[x] == '*':\n",
        "                            if abs(float(stoich) - int(float(stoich))) < .01:\n",
        "                                  stoich = int(float(stoich))\n",
        "                            else:\n",
        "                                  stoich = float(stoich) \n",
        "                            GettingStoich = False\n",
        "                \n",
        "                        else:\n",
        "                            stoich += i[x]\n",
        "                    else:\n",
        "                        mol = i[x:]\n",
        "                        if mol == 'target':\n",
        "                            mol = target\n",
        "                        if stoich == 1:\n",
        "                            CleanRes += mol + ' '\n",
        "                        else:\n",
        "                            CleanRes += str(stoich) + ' ' + mol + ' '\n",
        "                        Searching = False\n",
        "                    x += 1\n",
        "        CleanRes += '\\n'\n",
        "    return CleanRes\n",
        "\n",
        "# Example\n",
        "NumberOfRxns = 10\n",
        "StoichLimit = 5\n",
        "mol = UnknownMolecules[0]\n",
        "results = 'target = '+ str(mol) + '\\n'\n",
        "rxns,n = findRxns(UnknownMoleculesToFeatures, Weights, NumberOfRxns, StoichLimit, KnownMolecules, KnownMoleculesToFeatures, values, mol)\n",
        "results += rxns\n",
        "print(MakeResClean(results))\n"
      ],
      "execution_count": null,
      "outputs": [
        {
          "output_type": "stream",
          "text": [
            "Reaction 1: CCCCCC  + COCCOC  <--> 2 CCCCOC \n",
            "Reaction 2: 2 CCCCC  + COC=O  <--> CCCCCC  + C=O  + CCCCOC \n",
            "Reaction 3: CCCCC  + 2 COC=O  <--> CCOC=O  + C=O  + CCCCOC \n",
            "Reaction 4: CCCCC  + C1CCO1  + COC=O  <--> C1CCCO1  + C=O  + CCCCOC \n",
            "Reaction 5: COC=O  + 2 CC(C)(C)C  <--> CCCCCC  + C=O  + CCCCOC \n",
            "Reaction 6: CCOC=O  + OCC(C)C  <--> CC(=O)O  + CCCCOC \n",
            "Reaction 7: CCOC=O  + 3 CCCCC  <--> 2 CCCCCC  + C=O  + CCCCOC \n",
            "Reaction 8: CCOC=O  + COCCOC  + CCCCC  <--> COC=O  + 2 CCCCOC \n",
            "Reaction 9: CCOC=O  + CCCC=CC  <--> CC=CC=O  + CCCCOC \n",
            "Reaction 10: COCCOC  + CCCCC  + C1CCCO1  <--> C1CCO1  + 2 CCCCOC \n",
            "\n"
          ],
          "name": "stdout"
        }
      ]
    },
    {
      "cell_type": "markdown",
      "metadata": {
        "id": "rNbOaxzu0m6q"
      },
      "source": [
        "## Estimating Enthalpy of Formation \n",
        "\n",
        "After the reactions have been created the next step is to calculate the enthalpy of formation for the target molecule along with the uncertainty for each reaction. This is done using a number of functions; `determineEnthalpy()` breaks the results down into their individual reactions, `delspace()` turns a string into a list of its components, `calcHrxn()` determines the enthalpy of reaction using the estimated values, and finally `Calculator()` will determine the values. "
      ]
    },
    {
      "cell_type": "code",
      "metadata": {
        "id": "RTRJ29E_0m6r",
        "colab": {
          "base_uri": "https://localhost:8080/"
        },
        "outputId": "0c42c65f-6d5e-4b3e-8069-dc0286f57002"
      },
      "source": [
        "\n",
        "def determineEnthalpy(rxns, n, KnownEnthalpy, KnownMoleculesToFeatures, UnknownMoleculesToFeatures):\n",
        "    lines = rxns.splitlines()\n",
        "    rxnCount = 0\n",
        "    listR = []\n",
        "    res = [] \n",
        "    dHList = []\n",
        "    foundRxn = False\n",
        "    for l in lines: \n",
        "        if l[:6] == 'target':\n",
        "            foundRxn = True\n",
        "            # target = delspace(l[8:])[0]\n",
        "            # listR += delspace(l[8:])\n",
        "            target = l[8:].split()[0]\n",
        "            listR += l[8:].split()\n",
        "            pass\n",
        "        elif foundRxn == True:\n",
        "            # listR += [delspace(l[13:])]\n",
        "            listR += [l[13:].split()]\n",
        "            rxnCount += 1\n",
        "            if rxnCount == n:\n",
        "                Estimate, dHList = Calculator(KnownEnthalpy,listR, n, \\\n",
        "                                              KnownMoleculesToFeatures, UnknownMoleculesToFeatures)\n",
        "                foundRxn = False \n",
        "    return Estimate, dHList\n",
        "\n",
        "def calcHrxn(listMol, stoich,chosenStoich, target, d, UnknownMoleculesToFeatures):\n",
        "    Hrxn = sum(stoich[m]*d[(m,'atomization_energy')]  for m in listMol)\\\n",
        "     + chosenStoich*UnknownMoleculesToFeatures[(target,'atomization_energy')]\n",
        "    return Hrxn  \n",
        "\n",
        "def Calculator(KnownEnthalpy, listR, numRxn, KnownMoleculesToFeatures, UnknownMoleculesToFeatures):\n",
        "    d = KnownMoleculesToFeatures\n",
        "    target = listR[0]\n",
        "    Estimate = []\n",
        "    HrxnSum = 0\n",
        "    dHrxnList = []\n",
        "    for l in range(numRxn+1):\n",
        "        #First make list of all molecules involved and a dictionary linking them to their coeff\n",
        "        listMol = []\n",
        "        stoich = {}\n",
        "        reactant = True\n",
        "        targetStoich = 0\n",
        "        if l == 0:\n",
        "            pass\n",
        "        else:\n",
        "            stillLooking = True\n",
        "            for i in listR[l]:\n",
        "                coeff = ''\n",
        "                coeffStatus = True\n",
        "                currentMol = ''  \n",
        "                if i == '<-->':\n",
        "                    reactant = False\n",
        "                else: \n",
        "                    for k in range(len(i)):\n",
        "                        if stillLooking == False:\n",
        "                            break\n",
        "                        if (i[k].isnumeric() or i[k] == '.') and coeffStatus:\n",
        "                            coeff += i[k] \n",
        "                        elif i[k] == '*':\n",
        "                            coeffStatus = False\n",
        "                        elif i[k] == '+':\n",
        "                            break\n",
        "                        elif i[k:] == 'target':\n",
        "                            if reactant:\n",
        "                                targetStoich = float(coeff)*-1\n",
        "                            else:\n",
        "                                targetStoich = float(coeff)\n",
        "                            stillLooking = False\n",
        "                            break\n",
        "                        else:\n",
        "                            currentMol += i[k]    \n",
        "                    if currentMol != '':\n",
        "                        listMol += [currentMol]\n",
        "                        if reactant:\n",
        "                            stoich.update({currentMol:float(coeff)*-1})\n",
        "                        else:\n",
        "                            stoich.update({currentMol:float(coeff)})\n",
        "            if  targetStoich != 0:\n",
        "                Hrxn = calcHrxn(listMol, stoich,targetStoich, target, d, UnknownMoleculesToFeatures)\n",
        "                Estimate += [(Hrxn - sum(KnownEnthalpy[m]*stoich[m] for m in listMol)/targetStoich)]\n",
        "                dHrxnsqr = sum(abs(stoich[m])*d[(m,'uncertainty')]**2 for m in listMol) \\\n",
        "                + abs(targetStoich)*UnknownMoleculesToFeatures[(target,'uncertainty')]**2\n",
        "                dHrxn = dHrxnsqr**.5/abs(targetStoich)\n",
        "                dHrxnList += [dHrxn]\n",
        "    return Estimate, dHrxnList\n",
        "n = 10\n",
        "Estimate, dHList = determineEnthalpy(results, n, EnthalpyOfFormation,\\\n",
        "                                     KnownMoleculesToFeatures, UnknownMoleculesToFeatures)\n",
        "print('Estimates from each Reactions:', Estimate)\n",
        "print('Uncertinaty from each Reaction:', dHList)\n",
        " \n",
        "\n"
      ],
      "execution_count": null,
      "outputs": [
        {
          "output_type": "stream",
          "text": [
            "Estimates from each Reactions: [-63.244999999999735, -67.17999999999972, -64.95999999999967, -58.650000000000034, -72.07999999999987, -61.49000000000002, -69.39999999999938, -63.56499999999935, -69.97000000000008, -61.78999999999968]\n",
            "Uncertinaty from each Reaction: [0.3183158808479401, 0.6073713855624086, 0.7114773362518303, 0.7109149034870489, 0.7211795892841116, 1.09754270987511, 0.6509992319503918, 0.3945250308915773, 1.0092571525632108, 0.39427148007432644]\n"
          ],
          "name": "stdout"
        }
      ]
    },
    {
      "cell_type": "markdown",
      "metadata": {
        "id": "gqS48Xwo0m6s"
      },
      "source": [
        "The final step is to remove outliers and obtain an average value over all \n",
        "the reactions before returning the results. \n"
      ]
    },
    {
      "cell_type": "code",
      "metadata": {
        "id": "bJ_Fmyfa0m6s",
        "colab": {
          "base_uri": "https://localhost:8080/"
        },
        "outputId": "af1d9149-619d-4f46-c969-0397e4d78d68"
      },
      "source": [
        "def findAverages(Estimate, dHlist):\n",
        "    MultH = 0\n",
        "    n = len(Estimate)\n",
        "    for l in range(n):\n",
        "        MultH += np.log10(float(Estimate[l]) + 10000)\n",
        "    logM = MultH/n\n",
        "    standardDev = np.std(Estimate)\n",
        "    mean = 10**logM - 10000\n",
        "    correctedMult = 0\n",
        "    cN = 0 \n",
        "    if len(Estimate) == 1:\n",
        "        cMean = listH[0]\n",
        "    else:\n",
        "        for x in Estimate:\n",
        "            if mean - 2*standardDev <= x <= mean + 2*standardDev:\n",
        "                correctedMult += np.log10(x + 10000) \n",
        "                cN += 1\n",
        "            elif standardDev == 0:\n",
        "                correctedMult += np.log10(x + 10000) \n",
        "                cN += 1\n",
        "        clogM = correctedMult/cN\n",
        "        cMean = 10**clogM - 10000\n",
        "        meanE = np.mean(dHlist)\n",
        "        stdevE = np.std(dHlist)\n",
        "        df = n-1\n",
        "        lower, upper = scipy.stats.t.interval(.90, df, meanE, stdevE)\n",
        "    return(cMean, upper)\n",
        "\n",
        "Mean, Error = findAverages(Estimate, dHList)\n",
        "header = ['Molecule', 'Estimated Enthalpy of Formation (kcal/mol)', 'Uncertainty (kcal/mol)',  'Known Value (kcal/mol)']\n",
        "solution = [str(mol), str(Mean),str(Error),'-61.69' ]\n",
        "print(pd.DataFrame(solution,header))"
      ],
      "execution_count": null,
      "outputs": [
        {
          "output_type": "stream",
          "text": [
            "                                                             0\n",
            "Molecule                                                CCCCOC\n",
            "Estimated Enthalpy of Formation (kcal/mol)  -65.23383792684035\n",
            "Uncertainty (kcal/mol)                      1.1042249910046134\n",
            "Known Value (kcal/mol)                                  -61.69\n"
          ],
          "name": "stdout"
        }
      ]
    }
  ]
}